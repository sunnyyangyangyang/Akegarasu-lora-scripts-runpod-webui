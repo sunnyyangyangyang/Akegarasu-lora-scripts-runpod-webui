{
 "cells": [
  {
   "cell_type": "code",
   "execution_count": 1,
   "id": "a22cf692-f931-4f28-9ce2-4bca34cffcf5",
   "metadata": {},
   "outputs": [
    {
     "name": "stdout",
     "output_type": "stream",
     "text": [
      "Installing collected packages: lycoris-lora\n",
      "Successfully installed lycoris-lora-2.1.0.post3\n",
      "\u001b[33mWARNING: Running pip as the 'root' user can result in broken permissions and conflicting behaviour with the system package manager. It is recommended to use a virtual environment instead: https://pip.pypa.io/warnings/venv\u001b[0m\u001b[33m\n",
      "\u001b[0mPackage version not found: dadaptation\n",
      "Installing dadaptation==3.1\n",
      "Collecting dadaptation==3.1\n",
      "  Downloading dadaptation-3.1.tar.gz (13 kB)\n",
      "  Installing build dependencies ... \u001b[?25ldone\n",
      "\u001b[?25h  Getting requirements to build wheel ... \u001b[?25ldone\n",
      "\u001b[?25h  Preparing metadata (pyproject.toml) ... \u001b[?25ldone\n",
      "\u001b[?25hBuilding wheels for collected packages: dadaptation\n",
      "  Building wheel for dadaptation (pyproject.toml) ... \u001b[?25ldone\n",
      "\u001b[?25h  Created wheel for dadaptation: filename=dadaptation-3.1-py3-none-any.whl size=22789 sha256=17183ca4e801e3e9e054375723ed3bc801701d703957bf71ddde634f6b9ddf93\n",
      "  Stored in directory: /root/.cache/pip/wheels/34/25/92/b7708738900a69a166f41de56c776039b5a05599b36075c34f\n",
      "Successfully built dadaptation\n",
      "Installing collected packages: dadaptation\n",
      "Successfully installed dadaptation-3.1\n",
      "\u001b[33mWARNING: Running pip as the 'root' user can result in broken permissions and conflicting behaviour with the system package manager. It is recommended to use a virtual environment instead: https://pip.pypa.io/warnings/venv\u001b[0m\u001b[33m\n",
      "\u001b[0mPackage version not found: onnxruntime-gpu\n",
      "Installing onnxruntime\n",
      "\u001b[33mWARNING: Skipping onnxruntime as it is not installed.\u001b[0m\u001b[33m\n",
      "\u001b[0m\u001b[33mWARNING: Running pip as the 'root' user can result in broken permissions and conflicting behaviour with the system package manager. It is recommended to use a virtual environment instead: https://pip.pypa.io/warnings/venv\u001b[0m\u001b[33m\n",
      "\u001b[0mInstalling onnxruntime\n",
      "\u001b[33mWARNING: Skipping onnxruntime-gpu as it is not installed.\u001b[0m\u001b[33m\n",
      "\u001b[0m\u001b[33mWARNING: Running pip as the 'root' user can result in broken permissions and conflicting behaviour with the system package manager. It is recommended to use a virtual environment instead: https://pip.pypa.io/warnings/venv\u001b[0m\u001b[33m\n",
      "\u001b[0mInstalling onnxruntime\n",
      "Collecting onnxruntime==1.18.1\n",
      "  Downloading onnxruntime-1.18.1-cp310-cp310-manylinux_2_27_x86_64.manylinux_2_28_x86_64.whl.metadata (4.3 kB)\n",
      "Collecting coloredlogs (from onnxruntime==1.18.1)\n",
      "  Downloading coloredlogs-15.0.1-py2.py3-none-any.whl.metadata (12 kB)\n",
      "Collecting flatbuffers (from onnxruntime==1.18.1)\n",
      "  Downloading flatbuffers-24.3.25-py2.py3-none-any.whl.metadata (850 bytes)\n",
      "Requirement already satisfied: numpy<2.0,>=1.21.6 in /usr/local/lib/python3.10/dist-packages (from onnxruntime==1.18.1) (1.26.3)\n",
      "Requirement already satisfied: packaging in /usr/local/lib/python3.10/dist-packages (from onnxruntime==1.18.1) (23.2)\n",
      "Requirement already satisfied: protobuf in /usr/local/lib/python3.10/dist-packages (from onnxruntime==1.18.1) (3.19.6)\n",
      "Requirement already satisfied: sympy in /usr/local/lib/python3.10/dist-packages (from onnxruntime==1.18.1) (1.12)\n",
      "Collecting humanfriendly>=9.1 (from coloredlogs->onnxruntime==1.18.1)\n",
      "  Downloading humanfriendly-10.0-py2.py3-none-any.whl.metadata (9.2 kB)\n",
      "Requirement already satisfied: mpmath>=0.19 in /usr/local/lib/python3.10/dist-packages (from sympy->onnxruntime==1.18.1) (1.3.0)\n",
      "Downloading onnxruntime-1.18.1-cp310-cp310-manylinux_2_27_x86_64.manylinux_2_28_x86_64.whl (6.8 MB)\n",
      "\u001b[2K   \u001b[90m━━━━━━━━━━━━━━━━━━━━━━━━━━━━━━━━━━━━━━━━\u001b[0m \u001b[32m6.8/6.8 MB\u001b[0m \u001b[31m23.7 MB/s\u001b[0m eta \u001b[36m0:00:00\u001b[0m00:01\u001b[0m00:01\u001b[0m\n",
      "\u001b[?25hDownloading coloredlogs-15.0.1-py2.py3-none-any.whl (46 kB)\n",
      "\u001b[2K   \u001b[90m━━━━━━━━━━━━━━━━━━━━━━━━━━━━━━━━━━━━━━━━\u001b[0m \u001b[32m46.0/46.0 kB\u001b[0m \u001b[31m10.5 MB/s\u001b[0m eta \u001b[36m0:00:00\u001b[0m\n",
      "\u001b[?25hDownloading flatbuffers-24.3.25-py2.py3-none-any.whl (26 kB)\n",
      "Downloading humanfriendly-10.0-py2.py3-none-any.whl (86 kB)\n",
      "\u001b[2K   \u001b[90m━━━━━━━━━━━━━━━━━━━━━━━━━━━━━━━━━━━━━━━━\u001b[0m \u001b[32m86.8/86.8 kB\u001b[0m \u001b[31m19.5 MB/s\u001b[0m eta \u001b[36m0:00:00\u001b[0m\n",
      "\u001b[?25hInstalling collected packages: flatbuffers, humanfriendly, coloredlogs, onnxruntime\n",
      "Successfully installed coloredlogs-15.0.1 flatbuffers-24.3.25 humanfriendly-10.0 onnxruntime-1.18.1\n",
      "\u001b[33mWARNING: Running pip as the 'root' user can result in broken permissions and conflicting behaviour with the system package manager. It is recommended to use a virtual environment instead: https://pip.pypa.io/warnings/venv\u001b[0m\u001b[33m\n",
      "\u001b[0mInstalling onnxruntime-gpu\n",
      "Looking in indexes: https://aiinfra.pkgs.visualstudio.com/PublicPackages/_packaging/onnxruntime-cuda-12/pypi/simple/\n",
      "Collecting onnxruntime-gpu==1.18.1\n",
      "  Downloading https://aiinfra.pkgs.visualstudio.com/2692857e-05ef-43b4-ba9c-ccf1c22c437c/_packaging/9387c3aa-d9ad-4513-968c-383f6f7f53b8/pypi/download/onnxruntime-gpu/1.18.1/onnxruntime_gpu-1.18.1-cp310-cp310-manylinux_2_27_x86_64.manylinux_2_28_x86_64.whl (201.5 MB)\n",
      "\u001b[2K     \u001b[90m━━━━━━━━━━━━━━━━━━━━━━━━━━━━━━━━━━━━━━━\u001b[0m \u001b[32m201.5/201.5 MB\u001b[0m \u001b[31m9.7 MB/s\u001b[0m eta \u001b[36m0:00:00\u001b[0m00:01\u001b[0m00:01\u001b[0m\n",
      "\u001b[?25hRequirement already satisfied: coloredlogs in /usr/local/lib/python3.10/dist-packages (from onnxruntime-gpu==1.18.1) (15.0.1)\n",
      "Requirement already satisfied: flatbuffers in /usr/local/lib/python3.10/dist-packages (from onnxruntime-gpu==1.18.1) (24.3.25)\n",
      "Requirement already satisfied: numpy<2.0,>=1.21.6 in /usr/local/lib/python3.10/dist-packages (from onnxruntime-gpu==1.18.1) (1.26.3)\n",
      "Requirement already satisfied: packaging in /usr/local/lib/python3.10/dist-packages (from onnxruntime-gpu==1.18.1) (23.2)\n",
      "Requirement already satisfied: protobuf in /usr/local/lib/python3.10/dist-packages (from onnxruntime-gpu==1.18.1) (3.19.6)\n",
      "Requirement already satisfied: sympy in /usr/local/lib/python3.10/dist-packages (from onnxruntime-gpu==1.18.1) (1.12)\n",
      "Requirement already satisfied: humanfriendly>=9.1 in /usr/local/lib/python3.10/dist-packages (from coloredlogs->onnxruntime-gpu==1.18.1) (10.0)\n",
      "Requirement already satisfied: mpmath>=0.19 in /usr/local/lib/python3.10/dist-packages (from sympy->onnxruntime-gpu==1.18.1) (1.3.0)\n",
      "Installing collected packages: onnxruntime-gpu\n",
      "Successfully installed onnxruntime-gpu-1.18.1\n",
      "\u001b[33mWARNING: Running pip as the 'root' user can result in broken permissions and conflicting behaviour with the system package manager. It is recommended to use a virtual environment instead: https://pip.pypa.io/warnings/venv\u001b[0m\u001b[33m\n",
      "\u001b[0mTensorFlow installation not found - running with reduced feature set.\n",
      "\n",
      "NOTE: Using experimental fast data loading logic. To disable, pass\n",
      "    \"--load_fast=false\" and report issues on GitHub. More details:\n",
      "    https://github.com/tensorflow/tensorboard/issues/4784\n",
      "\n",
      "tkinter not found, file selector will not work.\n",
      "TensorBoard 2.10.1 at http://127.0.0.1:6006/ (Press CTRL+C to quit)\n",
      "^C\n"
     ]
    }
   ],
   "source": [
    "!git clone --recurse-submodules https://github.com/Akegarasu/lora-scripts\n",
    "\n",
    "%cd lora-scripts\n",
    "!bash install.bash\n",
    "\n",
    "!sh run_gui.sh"
   ]
  },
  {
   "cell_type": "code",
   "execution_count": 2,
   "id": "961d2704-da6c-4e8d-b854-de2cc366cc20",
   "metadata": {},
   "outputs": [
    {
     "name": "stdout",
     "output_type": "stream",
     "text": [
      "\u001b[2;36m15:17:18-980817\u001b[0m\u001b[2;36m \u001b[0m\u001b[34mINFO    \u001b[0m Starting SD-Trainer Mikazuki GUI\u001b[33m...\u001b[0m                    \n",
      "\u001b[2;36m15:17:18-985018\u001b[0m\u001b[2;36m \u001b[0m\u001b[34mINFO    \u001b[0m Base directory: \u001b[35m/workspace/\u001b[0m\u001b[95mlora-scripts\u001b[0m, Working       \n",
      "\u001b[2;36m                \u001b[0m         directory: \u001b[35m/workspace/\u001b[0m\u001b[95mlora-scripts\u001b[0m                     \n",
      "\u001b[2;36m15:17:18-985892\u001b[0m\u001b[2;36m \u001b[0m\u001b[34mINFO    \u001b[0m Linux Python \u001b[1;36m3.10\u001b[0m.\u001b[1;36m12\u001b[0m \u001b[35m/usr/bin/\u001b[0m\u001b[95mpython\u001b[0m                   \n",
      "\u001b[2;36m15:17:20-367349\u001b[0m\u001b[2;36m \u001b[0m\u001b[34mINFO    \u001b[0m Starting tageditor\u001b[33m...\u001b[0m                                  \n",
      "\u001b[2;36m15:17:20-369690\u001b[0m\u001b[2;36m \u001b[0m\u001b[34mINFO    \u001b[0m Starting tensorboard\u001b[33m...\u001b[0m                                \n",
      "\u001b[2;36m15:17:20-388150\u001b[0m\u001b[2;36m \u001b[0m\u001b[34mINFO    \u001b[0m Server started at \u001b[4;94mhttp://0.0.0.0:28000\u001b[0m                 \n",
      "TensorFlow installation not found - running with reduced feature set.\n",
      "\n",
      "NOTE: Using experimental fast data loading logic. To disable, pass\n",
      "    \"--load_fast=false\" and report issues on GitHub. More details:\n",
      "    https://github.com/tensorflow/tensorboard/issues/4784\n",
      "\n",
      "\u001b[2;36m15:17:21-254853\u001b[0m\u001b[2;36m \u001b[0m\u001b[31mWARNING \u001b[0m tkinter not found, file selector will not work.        \n",
      "\u001b[2;36m15:17:21-467004\u001b[0m\u001b[2;36m \u001b[0m\u001b[34mINFO    \u001b[0m Loading config from                                    \n",
      "\u001b[2;36m                \u001b[0m         \u001b[35m/workspace/lora-scripts/assets/\u001b[0m\u001b[95mconfig.json\u001b[0m             \n",
      "\u001b[2;36m15:17:21-480197\u001b[0m\u001b[2;36m \u001b[0m\u001b[34mINFO    \u001b[0m Torch \u001b[1;36m2.2\u001b[0m.\u001b[1;36m0\u001b[0m+cu121                                      \n",
      "TensorBoard 2.10.1 at http://0.0.0.0:6006/ (Press CTRL+C to quit)\n",
      "\u001b[2;36m15:17:21-518705\u001b[0m\u001b[2;36m \u001b[0m\u001b[34mINFO    \u001b[0m Torch backend: nVidia CUDA \u001b[1;36m12.1\u001b[0m cuDNN \u001b[1;36m8902\u001b[0m             \n",
      "\u001b[2;36m15:17:21-542040\u001b[0m\u001b[2;36m \u001b[0m\u001b[34mINFO    \u001b[0m Torch detected GPU: NVIDIA GeForce RTX \u001b[1;36m4090\u001b[0m VRAM \u001b[1;36m24210\u001b[0m \n",
      "\u001b[2;36m                \u001b[0m         Arch \u001b[1m(\u001b[0m\u001b[1;36m8\u001b[0m, \u001b[1;36m9\u001b[0m\u001b[1m)\u001b[0m Cores \u001b[1;36m128\u001b[0m                                  \n",
      "^C\n"
     ]
    }
   ],
   "source": [
    "!python gui.py --listen"
   ]
  },
  {
   "cell_type": "code",
   "execution_count": null,
   "id": "c448864a-2432-4f68-a8a2-0d839d5425d9",
   "metadata": {},
   "outputs": [
    {
     "name": "stdout",
     "output_type": "stream",
     "text": [
      "\u001b[2;36m15:18:51-595823\u001b[0m\u001b[2;36m \u001b[0m\u001b[34mINFO    \u001b[0m Starting SD-Trainer Mikazuki GUI\u001b[33m...\u001b[0m                    \n",
      "\u001b[2;36m15:18:51-599393\u001b[0m\u001b[2;36m \u001b[0m\u001b[34mINFO    \u001b[0m Base directory: \u001b[35m/workspace/\u001b[0m\u001b[95mlora-scripts\u001b[0m, Working       \n",
      "\u001b[2;36m                \u001b[0m         directory: \u001b[35m/workspace/\u001b[0m\u001b[95mlora-scripts\u001b[0m                     \n",
      "\u001b[2;36m15:18:51-600271\u001b[0m\u001b[2;36m \u001b[0m\u001b[34mINFO    \u001b[0m Linux Python \u001b[1;36m3.10\u001b[0m.\u001b[1;36m12\u001b[0m \u001b[35m/usr/bin/\u001b[0m\u001b[95mpython\u001b[0m                   \n",
      "\u001b[2;36m15:18:52-959387\u001b[0m\u001b[2;36m \u001b[0m\u001b[34mINFO    \u001b[0m Starting tageditor\u001b[33m...\u001b[0m                                  \n",
      "\u001b[2;36m15:18:52-961620\u001b[0m\u001b[2;36m \u001b[0m\u001b[34mINFO    \u001b[0m Starting tensorboard\u001b[33m...\u001b[0m                                \n",
      "\u001b[2;36m15:18:52-979188\u001b[0m\u001b[2;36m \u001b[0m\u001b[34mINFO    \u001b[0m Server started at \u001b[4;94mhttp://0.0.0.0:28000\u001b[0m                 \n",
      "TensorFlow installation not found - running with reduced feature set.\n",
      "\n",
      "NOTE: Using experimental fast data loading logic. To disable, pass\n",
      "    \"--load_fast=false\" and report issues on GitHub. More details:\n",
      "    https://github.com/tensorflow/tensorboard/issues/4784\n",
      "\n",
      "\u001b[2;36m15:18:53-809025\u001b[0m\u001b[2;36m \u001b[0m\u001b[31mWARNING \u001b[0m tkinter not found, file selector will not work.        \n",
      "TensorBoard 2.10.1 at http://0.0.0.0:6006/ (Press CTRL+C to quit)\n",
      "\u001b[2;36m15:18:54-058149\u001b[0m\u001b[2;36m \u001b[0m\u001b[34mINFO    \u001b[0m Loading config from                                    \n",
      "\u001b[2;36m                \u001b[0m         \u001b[35m/workspace/lora-scripts/assets/\u001b[0m\u001b[95mconfig.json\u001b[0m             \n"
     ]
    }
   ],
   "source": [
    "!sh run_gui.sh --listen"
   ]
  }
 ],
 "metadata": {
  "kernelspec": {
   "display_name": "Python 3 (ipykernel)",
   "language": "python",
   "name": "python3"
  },
  "language_info": {
   "codemirror_mode": {
    "name": "ipython",
    "version": 3
   },
   "file_extension": ".py",
   "mimetype": "text/x-python",
   "name": "python",
   "nbconvert_exporter": "python",
   "pygments_lexer": "ipython3",
   "version": "3.10.12"
  }
 },
 "nbformat": 4,
 "nbformat_minor": 5
}
